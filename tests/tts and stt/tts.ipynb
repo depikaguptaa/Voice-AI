{
 "cells": [
  {
   "cell_type": "code",
   "execution_count": 9,
   "metadata": {},
   "outputs": [],
   "source": [
    "from elevenlabs.client import ElevenLabs\n",
    "import configparser\n",
    "from elevenlabs import play\n"
   ]
  },
  {
   "cell_type": "code",
   "execution_count": 5,
   "metadata": {},
   "outputs": [],
   "source": [
    "config = configparser.ConfigParser()\n",
    "config.read(r\"..\\..\\weya_takehome\\secrets\\config.ini\")\n",
    "ELEVENLABS_API_KEY = config['api']['ELEVENLABS_API_KEY']\n",
    "ELEVENLABS_VOICE_ID = config['id']['Adam']\n",
    "\n",
    "el_client = ElevenLabs(\n",
    "  api_key=ELEVENLABS_API_KEY,\n",
    ")"
   ]
  },
  {
   "cell_type": "code",
   "execution_count": 8,
   "metadata": {},
   "outputs": [],
   "source": [
    "audio = el_client.generate(\n",
    "  text=\"Hi, this is a test generated audio to verify the TTS\",\n",
    "  voice=\"Rachel\",\n",
    "  model=\"eleven_multilingual_v2\"\n",
    ")"
   ]
  },
  {
   "cell_type": "code",
   "execution_count": 10,
   "metadata": {},
   "outputs": [],
   "source": [
    "play(audio)"
   ]
  }
 ],
 "metadata": {
  "kernelspec": {
   "display_name": "weya-takehome-QJnJCciM-py3.12",
   "language": "python",
   "name": "python3"
  },
  "language_info": {
   "codemirror_mode": {
    "name": "ipython",
    "version": 3
   },
   "file_extension": ".py",
   "mimetype": "text/x-python",
   "name": "python",
   "nbconvert_exporter": "python",
   "pygments_lexer": "ipython3",
   "version": "3.12.0"
  }
 },
 "nbformat": 4,
 "nbformat_minor": 2
}
